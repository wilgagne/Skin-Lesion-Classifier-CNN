{
  "nbformat": 4,
  "nbformat_minor": 0,
  "metadata": {
    "colab": {
      "provenance": []
    },
    "kernelspec": {
      "name": "python3",
      "display_name": "Python 3"
    },
    "language_info": {
      "name": "python"
    },
    "gpuClass": "standard"
  },
  "cells": [
    {
      "cell_type": "code",
      "execution_count": null,
      "metadata": {
        "id": "ljhDtoeIYKGZ"
      },
      "outputs": [],
      "source": [
        "import matplotlib.image as mpimg\n",
        "import matplotlib.pyplot as plt\n",
        "import numpy as np\n",
        "import os\n",
        "import cv2\n",
        "import pandas as pd\n",
        "import scipy.stats as st\n",
        "import seaborn as sns\n",
        "import tensorflow as tf\n",
        "from google.colab import drive\n",
        "from imblearn.over_sampling import RandomOverSampler\n",
        "from imblearn.under_sampling import RandomUnderSampler\n",
        "from keras import layers, models, optimizers\n",
        "from keras.applications import InceptionV3\n",
        "from keras.applications.inception_v3 import decode_predictions\n",
        "from keras.callbacks import Callback\n",
        "from keras.callbacks import LearningRateScheduler\n",
        "from keras.optimizers import Adam\n",
        "from keras.optimizers import RMSprop\n",
        "from keras.preprocessing.image import ImageDataGenerator\n",
        "from keras.utils import Sequence\n",
        "from sklearn.metrics import accuracy_score\n",
        "from sklearn.metrics import confusion_matrix\n",
        "from sklearn.metrics import roc_curve, auc\n",
        "from sklearn.model_selection import train_test_split\n",
        "from sklearn.utils.class_weight import compute_class_weight\n",
        "from sklearn.utils import class_weight\n",
        "from sklearn.utils import shuffle\n",
        "from tensorflow import keras\n",
        "from tensorflow.keras.callbacks import EarlyStopping, ModelCheckpoint\n",
        "from tensorflow.keras.models import load_model\n",
        "from tensorflow.keras.optimizers import RMSprop\n",
        "from tensorflow.keras.preprocessing import image\n",
        "from tensorflow.keras.preprocessing.image import ImageDataGenerator"
      ]
    },
    {
      "cell_type": "code",
      "source": [
        "# Note the following code as been built in collaboration with GPT-4.\n",
        "# OpenAI. (2023). ChatGPT (Mar 23 version) [Large language model]. https://chat.openai.com/c/b1498a7b-afc7-49e7-bd55-b90f0b9922b3"
      ],
      "metadata": {
        "id": "kJz_TFOMGbkD"
      },
      "execution_count": null,
      "outputs": []
    },
    {
      "cell_type": "code",
      "source": [
        "drive.mount('/content/drive')\n",
        "\n",
        "# Load the CSV files\n",
        "metadata_df = pd.read_csv('/content/drive/My Drive/Project/archive/HAM10000_metadata.csv')\n",
        "\n",
        "# Add the .jpg file extension to the filenames in the dataframe\n",
        "metadata_df['image_id'] = metadata_df['image_id'].apply(lambda x: f\"{x}.jpg\")\n",
        "\n",
        "# Define image directories\n",
        "data_dir_1 = '/content/drive/My Drive/Project/archive/HAM10000_images_part_1'\n",
        "data_dir_2 = '/content/drive/My Drive/Project/archive/HAM10000_images_part_2'\n",
        "\n",
        "# Merge the two image directories\n",
        "metadata_df['image_path'] = metadata_df['image_id'].apply(lambda x: os.path.join(data_dir_1, x) if os.path.exists(os.path.join(data_dir_1, x)) else os.path.join(data_dir_2, x))\n",
        "\n",
        "# Create a stratified train and validation split \n",
        "train_df, valid_df = train_test_split(metadata_df, test_size=0.15, random_state=47, stratify=metadata_df['dx'])\n",
        "\n",
        "# Reset the index of the resulting dataframes\n",
        "train_df.reset_index(drop=True, inplace=True)\n",
        "valid_df.reset_index(drop=True, inplace=True)\n"
      ],
      "metadata": {
        "colab": {
          "base_uri": "https://localhost:8080/"
        },
        "id": "mu_fHaj8wX5F",
        "outputId": "c6afc64c-5f1c-41b9-867d-c475fc46cf5e"
      },
      "execution_count": null,
      "outputs": [
        {
          "output_type": "stream",
          "name": "stdout",
          "text": [
            "Mounted at /content/drive\n"
          ]
        }
      ]
    },
    {
      "cell_type": "code",
      "source": [
        "# Looking for similar ratio in the val and train data\n",
        "train_class_counts = train_df['dx'].value_counts()\n",
        "print(\"~Train classes~\")\n",
        "for class_name, count in train_class_counts.items():\n",
        "    print(f\"{class_name}: {count} samples\")\n",
        "print(\"\\n ~Val classes~\")\n",
        "val_class_counts = valid_df['dx'].value_counts()\n",
        "for class_name, count in val_class_counts.items():\n",
        "    print(f\"{class_name}: {count} samples\")"
      ],
      "metadata": {
        "colab": {
          "base_uri": "https://localhost:8080/"
        },
        "id": "iK1FzSs8G5tT",
        "outputId": "9beffe5e-4e68-4b5e-e5f2-12ba11126f2a"
      },
      "execution_count": null,
      "outputs": [
        {
          "output_type": "stream",
          "name": "stdout",
          "text": [
            "~Train classes~\n",
            "nv: 5699 samples\n",
            "mel: 946 samples\n",
            "bkl: 934 samples\n",
            "bcc: 437 samples\n",
            "akiec: 278 samples\n",
            "vasc: 120 samples\n",
            "df: 98 samples\n",
            "\n",
            " ~Val classes~\n",
            "nv: 1006 samples\n",
            "mel: 167 samples\n",
            "bkl: 165 samples\n",
            "bcc: 77 samples\n",
            "akiec: 49 samples\n",
            "vasc: 22 samples\n",
            "df: 17 samples\n"
          ]
        }
      ]
    },
    {
      "cell_type": "code",
      "source": [
        "# Load Inception v3 model\n",
        "base_model = InceptionV3(weights='imagenet', include_top=False, input_shape=(299, 299, 3))"
      ],
      "metadata": {
        "id": "y92wUK95YvfD",
        "colab": {
          "base_uri": "https://localhost:8080/"
        },
        "outputId": "52605952-bbc4-42dc-a711-ffb8722920e5"
      },
      "execution_count": null,
      "outputs": [
        {
          "output_type": "stream",
          "name": "stdout",
          "text": [
            "Downloading data from https://storage.googleapis.com/tensorflow/keras-applications/inception_v3/inception_v3_weights_tf_dim_ordering_tf_kernels_notop.h5\n",
            "87910968/87910968 [==============================] - 1s 0us/step\n"
          ]
        }
      ]
    },
    {
      "cell_type": "code",
      "source": [
        "# We fine-tune all layer\n",
        "for layer in base_model.layers:\n",
        "    layer.trainable = True"
      ],
      "metadata": {
        "id": "4L2lmmcuZ5ug"
      },
      "execution_count": null,
      "outputs": []
    },
    {
      "cell_type": "code",
      "source": [
        "# Remove the last layer\n",
        "x = base_model.output\n",
        "\n",
        "# Add out final layer for classification\n",
        "# Set number of class to 7 as we only have 7 labels in our data\n",
        "number_of_classes = 7\n",
        "\n",
        "x = layers.GlobalAveragePooling2D()(x)\n",
        "x = layers.Dense(1024, activation='relu')(x)\n",
        "predictions = layers.Dense(number_of_classes, activation='softmax')(x)\n",
        "\n",
        "# Modifying Model\n",
        "model = models.Model(inputs=base_model.input, outputs=predictions)"
      ],
      "metadata": {
        "id": "OLqA-A5rY_0e"
      },
      "execution_count": null,
      "outputs": []
    },
    {
      "cell_type": "code",
      "source": [
        "# Define a learning rate scheduler with a decay factor \n",
        "def lr_schedule(epoch, lr):\n",
        "    decay_factor = 16\n",
        "    decay_epoch = 16\n",
        "    if epoch > 0 and epoch / 30 == 0:\n",
        "        return lr / decay_factor\n",
        "    return lr"
      ],
      "metadata": {
        "id": "2DIP2aPwf177"
      },
      "execution_count": null,
      "outputs": []
    },
    {
      "cell_type": "code",
      "source": [
        "# Compile the model with RMSProp optimizer and the specified parameters\n",
        "model.compile(optimizer=RMSprop(learning_rate=0.001, rho=0.9, momentum=0.9, epsilon=0.1),\n",
        "              loss='categorical_crossentropy',\n",
        "              metrics=['accuracy'])"
      ],
      "metadata": {
        "id": "7Cuyc-hMWO0H"
      },
      "execution_count": null,
      "outputs": []
    },
    {
      "cell_type": "code",
      "source": [
        "batchSize = 32\n",
        "\n",
        "sampling_strategy = {\n",
        "    'nv': 1000,\n",
        "    'mel': 946,\n",
        "    'bkl': 934,\n",
        "    'bcc': 437,\n",
        "    'akiec': 278,\n",
        "    'vasc': 120,\n",
        "    'df': 98 \n",
        "}\n",
        "\n",
        "# Custom preprocessing function\n",
        "def custom_preprocessing_function(image):\n",
        "    def crop_largest_inscribed_rect(image, angle):\n",
        "        h, w = image.shape[:2]\n",
        "        angle = angle % 360\n",
        "\n",
        "        if angle > 180:\n",
        "            angle = 360 - angle\n",
        "\n",
        "        angle_rad = np.deg2rad(angle)\n",
        "\n",
        "        if w > h:\n",
        "            h, w = w, h\n",
        "\n",
        "        new_w = int(h * np.abs(np.cos(angle_rad)) + w * np.abs(np.sin(angle_rad)))\n",
        "        new_h = int(h * np.abs(np.sin(angle_rad)) + w * np.abs(np.cos(angle_rad)))\n",
        "\n",
        "        center = (w // 2, h // 2)\n",
        "        M = cv2.getRotationMatrix2D(center, angle, 1.0)\n",
        "\n",
        "        rotated = cv2.warpAffine(image, M, (w, h))\n",
        "        cropped = rotated[(h - new_h) // 2:(h + new_h) // 2, (w - new_w) // 2:(w + new_w) // 2]\n",
        "\n",
        "        return cropped\n",
        "\n",
        "    angle = np.random.randint(0, 360)\n",
        "    rotated_and_cropped = crop_largest_inscribed_rect(image, angle)\n",
        "    resized = cv2.resize(rotated_and_cropped, (299, 299))\n",
        "\n",
        "    if np.random.rand() > 0.5:\n",
        "        flipped = cv2.flip(resized, 0)\n",
        "    else:\n",
        "        flipped = resized\n",
        "\n",
        "    rescaled = flipped / 255.0\n",
        "    return rescaled\n",
        "\n",
        "def load_images(image_paths, target_size):\n",
        "    images = []\n",
        "    for img_path in image_paths:\n",
        "        img = keras.preprocessing.image.load_img(img_path, target_size=target_size)\n",
        "        img_array = keras.preprocessing.image.img_to_array(img)\n",
        "        images.append(img_array)\n",
        "    return np.array(images)\n",
        "\n",
        "class UndersamplingDataGenerator(Sequence):\n",
        "    def __init__(self, dataframe, x_col, y_col, datagen, target_size, batch_size, undersampler):\n",
        "        self.original_dataframe = dataframe\n",
        "        self.x_col = x_col\n",
        "        self.y_col = y_col\n",
        "        self.datagen = datagen\n",
        "        self.target_size = target_size\n",
        "        self.batch_size = batch_size\n",
        "        self.undersampler = undersampler\n",
        "        self.all_classes = np.unique(dataframe[y_col])\n",
        "        self.on_epoch_end()\n",
        "\n",
        "    def __len__(self):\n",
        "        return int(np.ceil(len(self.dataframe) / float(self.batch_size)))\n",
        "\n",
        "    def __data_generation(self, image_paths, labels):\n",
        "        X = load_images(image_paths, target_size=self.target_size)\n",
        "        y = pd.get_dummies(labels).reindex(columns=self.all_classes, fill_value=0).values\n",
        "\n",
        "        # Apply the custom preprocessing function\n",
        "        for i, img in enumerate(X):\n",
        "            X[i] = custom_preprocessing_function(img)\n",
        "\n",
        "        return X, y\n",
        "\n",
        "    def __getitem__(self, idx):\n",
        "        batch_x = self.dataframe.iloc[idx * self.batch_size:(idx + 1) * self.batch_size, self.dataframe.columns.get_loc(self.x_col)].values\n",
        "        batch_y = self.dataframe.iloc[idx * self.batch_size:(idx + 1) * self.batch_size, self.dataframe.columns.get_loc(self.y_col)].values\n",
        "\n",
        "        X, y = self.__data_generation(batch_x, batch_y)\n",
        "        return X, y\n",
        "\n",
        "    def on_epoch_end(self):\n",
        "        self.dataframe = shuffle(self.original_dataframe)\n",
        "\n",
        "        X, y = self.dataframe[self.x_col].values, self.dataframe[self.y_col].values\n",
        "        X, y = self.undersampler.fit_resample(np.array(X).reshape(-1, 1), y)\n",
        "\n",
        "        self.dataframe = pd.DataFrame({self.x_col: X.flatten(), self.y_col: y})\n",
        "        self.dataframe = self.dataframe.sample(frac=1).reset_index(drop=True)\n",
        "\n",
        "# Create the train and validation generators\n",
        "train_datagen = ImageDataGenerator()\n",
        "valid_datagen = ImageDataGenerator(rescale=1./255)\n",
        "undersampler = RandomUnderSampler(sampling_strategy=sampling_strategy, random_state=47)\n",
        "\n",
        "train_generator = UndersamplingDataGenerator(train_df, 'image_path', 'dx', train_datagen, (299, 299), batchSize, undersampler)\n",
        "valid_generator = valid_datagen.flow_from_dataframe(dataframe=valid_df,\n",
        "                                                     x_col='image_path',\n",
        "                                                     y_col='dx',\n",
        "                                                     target_size=(299, 299),\n",
        "                                                     batch_size=batchSize,\n",
        "                                                     class_mode='categorical')\n",
        "\n",
        "early_stopping = EarlyStopping(monitor='val_loss', patience=4, restore_best_weights=True)\n",
        "model_checkpoint = ModelCheckpoint('best_model.Paper', monitor='val_loss', save_best_only=True, mode='min')\n",
        "lr_callback = tf.keras.callbacks.LearningRateScheduler(lr_schedule)"
      ],
      "metadata": {
        "colab": {
          "base_uri": "https://localhost:8080/"
        },
        "id": "mOKs4wjM7JeG",
        "outputId": "78883621-937f-47f8-b637-bb4bf8f1afb0"
      },
      "execution_count": null,
      "outputs": [
        {
          "output_type": "stream",
          "name": "stdout",
          "text": [
            "Found 1503 validated image filenames belonging to 7 classes.\n"
          ]
        }
      ]
    },
    {
      "cell_type": "code",
      "source": [
        "# Train the model\n",
        "total_epochs = 20\n",
        "\n",
        "history = model.fit(train_generator,\n",
        "                    steps_per_epoch=len(train_generator),\n",
        "                    epochs=total_epochs,\n",
        "                    validation_data=valid_generator,\n",
        "                    validation_steps=valid_generator.n // valid_generator.batch_size,\n",
        "                    callbacks=[early_stopping, lr_callback, model_checkpoint])"
      ],
      "metadata": {
        "id": "J-XihbMMj5NA"
      },
      "execution_count": null,
      "outputs": []
    },
    {
      "cell_type": "code",
      "source": [
        "plt.figure(figsize=(12, 4))\n",
        "plt.subplot(1, 2, 1)\n",
        "plt.plot(history.history['accuracy'], label='Train')\n",
        "plt.plot(history.history['val_accuracy'], label='Validation')\n",
        "plt.xlabel('Epochs')\n",
        "plt.ylabel('Accuracy')\n",
        "plt.legend()\n",
        "\n",
        "plt.subplot(1, 2, 2)\n",
        "plt.plot(history.history['loss'], label='Train')\n",
        "plt.plot(history.history['val_loss'], label='Validation')\n",
        "plt.xlabel('Epochs')\n",
        "plt.ylabel('Loss')\n",
        "plt.legend()\n",
        "\n",
        "plt.show()"
      ],
      "metadata": {
        "id": "T7ZKsdErMUAh",
        "colab": {
          "base_uri": "https://localhost:8080/",
          "height": 388
        },
        "outputId": "512f094c-b9b2-4450-dd9a-885378d75cc2"
      },
      "execution_count": null,
      "outputs": [
        {
          "output_type": "display_data",
          "data": {
            "text/plain": [
              "<Figure size 1200x400 with 2 Axes>"
            ],
            "image/png": "[encoded data removed]"
          },
          "metadata": {}
        }
      ]
    },
    {
      "cell_type": "code",
      "source": [
        "model.save('/content/drive/My Drive/Project/v3.epoch20.batch32.Paper')"
      ],
      "metadata": {
        "id": "1Jw1vYPxP8TH",
        "colab": {
          "base_uri": "https://localhost:8080/"
        },
        "outputId": "7ed06444-1639-4add-d352-b829d0f20ef9"
      },
      "execution_count": null,
      "outputs": [
        {
          "output_type": "stream",
          "name": "stderr",
          "text": [
            "WARNING:absl:Found untraced functions such as _jit_compiled_convolution_op, _jit_compiled_convolution_op, _jit_compiled_convolution_op, _jit_compiled_convolution_op, _jit_compiled_convolution_op while saving (showing 5 of 94). These functions will not be directly callable after loading.\n"
          ]
        }
      ]
    },
    {
      "cell_type": "markdown",
      "source": [
        "------------------------------------------------------------------------\n",
        "We can use the following chunks to test the model on individual samples."
      ],
      "metadata": {
        "id": "lQK3bQuUwh4g"
      }
    },
    {
      "cell_type": "code",
      "source": [
        "model = load_model('/content/drive/My Drive/Project/v3.epoch20.batch32.Paper')"
      ],
      "metadata": {
        "id": "OR6ddaIqweLJ"
      },
      "execution_count": null,
      "outputs": []
    },
    {
      "cell_type": "code",
      "source": [
        "import pandas as pd\n",
        "\n",
        "# Load the CSV file\n",
        "metadata_test = pd.read_csv('/content/drive/My Drive/Project/archive/ISIC2018_Task3_Test_GroundTruth.csv')\n",
        "\n",
        "# Define image directories\n",
        "test_dir = '/content/drive/My Drive/Project/archive/ISIC2018_Task3_Test_Input'\n",
        "\n",
        "# Rename the 'image' column to 'image_id' and add the '.jpg' extension\n",
        "metadata_test['image_id'] = metadata_test['image'] + '.jpg'\n",
        "metadata_test.drop(columns=['image'], inplace=True)\n",
        "\n",
        "# Create a new column 'image_path' with the complete path to each image file\n",
        "metadata_test['image_path'] = metadata_test['image_id'].apply(lambda x: os.path.join(test_dir, x))\n",
        "\n",
        "# Convert the one-hot encoded class columns to numeric values\n",
        "class_columns = metadata_test.columns[:-1]\n",
        "metadata_test[class_columns] = metadata_test[class_columns].apply(pd.to_numeric, errors='coerce')\n",
        "\n",
        "# Find the class name (column name) with the highest value (one-hot encoding) and store it in a new column 'dx'\n",
        "metadata_test['dx'] = metadata_test[class_columns].idxmax(axis=1)\n",
        "\n",
        "# Convert the class names in 'dx' column to lowercase\n",
        "metadata_test['dx'] = metadata_test['dx'].str.lower()\n",
        "\n",
        "metadata_test.drop(columns=['image_id'], inplace=True)\n",
        "\n",
        "# Define image generator\n",
        "test_datagen = ImageDataGenerator(rescale=1./255)\n",
        "\n",
        "# Define the batch size\n",
        "batch_size = 32\n",
        "\n",
        "# Create test generator\n",
        "test_generator = test_datagen.flow_from_dataframe(\n",
        "    dataframe=metadata_test,\n",
        "    directory=test_dir,\n",
        "    x_col='image_path',\n",
        "    y_col='dx',\n",
        "    target_size=(299, 299),\n",
        "    batch_size=batch_size,\n",
        "    shuffle=False\n",
        ")"
      ],
      "metadata": {
        "colab": {
          "base_uri": "https://localhost:8080/"
        },
        "id": "SIKW-tT8ZxN2",
        "outputId": "3d4ad773-79bb-4f8a-fbe8-4658b25f51a9"
      },
      "execution_count": null,
      "outputs": [
        {
          "output_type": "stream",
          "name": "stdout",
          "text": [
            "Found 1512 validated image filenames belonging to 7 classes.\n"
          ]
        }
      ]
    },
    {
      "cell_type": "code",
      "source": [
        "def get_true_and_predicted_labels(model, generator):\n",
        "    true_labels = []\n",
        "    predicted_probs = []\n",
        "\n",
        "    for i in range(generator.__len__()):\n",
        "        X_batch, y_batch_true = generator.__getitem__(i)\n",
        "        y_batch_pred = model.predict(X_batch)\n",
        "\n",
        "        true_labels.extend(np.argmax(y_batch_true, axis=1))\n",
        "        predicted_probs.extend(y_batch_pred)\n",
        "\n",
        "    return np.array(true_labels), np.array(predicted_probs)\n",
        "\n",
        "y_true, y_pred = get_true_and_predicted_labels(model, test_generator)\n",
        "\n",
        "# Create binary scores for malignant and benign classes\n",
        "benign_score = y_pred[:, ~np.isin(np.arange(y_pred.shape[1]), malignant_classes_indices)].sum(axis=1)\n",
        "mal_score = y_pred[:, malignant_classes_indices].sum(axis=1)\n",
        "\n",
        "binary_truth = np.array([1 if label in malignant_classes_indices else 0 for label in y_true])\n",
        "\n",
        "# Calculate the AUC\n",
        "auc_score = roc_auc_score(binary_truth, mal_score)\n",
        "\n",
        "# Compute the ROC curve\n",
        "fpr, tpr, _ = roc_curve(binary_truth, mal_score, pos_label=1)\n",
        "sensitivity = tpr\n",
        "specificity = 1 - fpr\n",
        "\n",
        "# Plot the ROC curve\n",
        "plt.plot(sensitivity, specificity)\n",
        "plt.xlabel(\"Sensitivity\")\n",
        "plt.ylabel(\"Specificity\")\n",
        "plt.title(\"ROC Curve for Malignant (All samples)\")\n",
        "plt.text(0.5, 0.3, f\"AUC score: {auc_score:.2f}\", ha='center', va='center', bbox=dict(facecolor='white', edgecolor='gray', pad=5.0))\n",
        "plt.show()\n",
        "\n",
        "print(\"AUC score is \" + str(auc_score))"
      ],
      "metadata": {
        "colab": {
          "base_uri": "https://localhost:8080/",
          "height": 1000
        },
        "id": "UYHCxQ3YljLg",
        "outputId": "b1232705-7c93-48b4-e9ea-e457852cfb4c"
      },
      "execution_count": null,
      "outputs": [
        {
          "output_type": "stream",
          "name": "stdout",
          "text": [
            "1/1 [==============================] - 11s 11s/step\n",
            "1/1 [==============================] - 8s 8s/step\n",
            "1/1 [==============================] - 9s 9s/step\n",
            "1/1 [==============================] - 7s 7s/step\n",
            "1/1 [==============================] - 7s 7s/step\n",
            "1/1 [==============================] - 9s 9s/step\n",
            "1/1 [==============================] - 9s 9s/step\n",
            "1/1 [==============================] - 7s 7s/step\n",
            "1/1 [==============================] - 7s 7s/step\n",
            "1/1 [==============================] - 9s 9s/step\n",
            "1/1 [==============================] - 8s 8s/step\n",
            "1/1 [==============================] - 8s 8s/step\n",
            "1/1 [==============================] - 10s 10s/step\n",
            "1/1 [==============================] - 7s 7s/step\n",
            "1/1 [==============================] - 7s 7s/step\n",
            "1/1 [==============================] - 7s 7s/step\n",
            "1/1 [==============================] - 9s 9s/step\n",
            "1/1 [==============================] - 9s 9s/step\n",
            "1/1 [==============================] - 7s 7s/step\n",
            "1/1 [==============================] - 9s 9s/step\n",
            "1/1 [==============================] - 9s 9s/step\n",
            "1/1 [==============================] - 7s 7s/step\n",
            "1/1 [==============================] - 9s 9s/step\n",
            "1/1 [==============================] - 8s 8s/step\n",
            "1/1 [==============================] - 9s 9s/step\n",
            "1/1 [==============================] - 8s 8s/step\n",
            "1/1 [==============================] - 7s 7s/step\n",
            "1/1 [==============================] - 7s 7s/step\n",
            "1/1 [==============================] - 9s 9s/step\n",
            "1/1 [==============================] - 11s 11s/step\n",
            "1/1 [==============================] - 15s 15s/step\n",
            "1/1 [==============================] - 14s 14s/step\n",
            "1/1 [==============================] - 12s 12s/step\n",
            "1/1 [==============================] - 7s 7s/step\n",
            "1/1 [==============================] - 7s 7s/step\n",
            "1/1 [==============================] - 8s 8s/step\n",
            "1/1 [==============================] - 9s 9s/step\n",
            "1/1 [==============================] - 7s 7s/step\n",
            "1/1 [==============================] - 7s 7s/step\n",
            "1/1 [==============================] - 7s 7s/step\n",
            "1/1 [==============================] - 9s 9s/step\n",
            "1/1 [==============================] - 9s 9s/step\n",
            "1/1 [==============================] - 7s 7s/step\n",
            "1/1 [==============================] - 8s 8s/step\n",
            "1/1 [==============================] - 9s 9s/step\n",
            "1/1 [==============================] - 9s 9s/step\n",
            "1/1 [==============================] - 7s 7s/step\n",
            "1/1 [==============================] - 3s 3s/step\n"
          ]
        },
        {
          "output_type": "display_data",
          "data": {
            "text/plain": [
              "<Figure size 640x480 with 1 Axes>"
            ],
            "image/png": "[encoded data removed]"
          },
          "metadata": {}
        },
        {
          "output_type": "stream",
          "name": "stdout",
          "text": [
            "AUC score is 0.7925946450052036\n"
          ]
        }
      ]
    },
    {
      "cell_type": "code",
      "source": [
        "# Get class indices for 'mel' and 'nv' classes\n",
        "mel_class_index = test_generator.class_indices['mel']\n",
        "nv_class_index = test_generator.class_indices['nv']\n",
        "\n",
        "# Filter samples belonging to 'mel' and 'nv' classes\n",
        "mel_nv_indices = np.where((y_true == mel_class_index) | (y_true == nv_class_index))\n",
        "y_true_filtered = y_true[mel_nv_indices]\n",
        "y_pred_filtered = y_pred[mel_nv_indices]\n",
        "\n",
        "# Create binary scores for malignant and benign classes\n",
        "benign_score = y_pred_filtered[:, ~np.isin(np.arange(y_pred_filtered.shape[1]), malignant_classes_indices)].sum(axis=1)\n",
        "mal_score_mel_nv = y_pred_filtered[:, malignant_classes_indices].sum(axis=1)\n",
        "\n",
        "binary_truth_mel_nv = np.array([1 if label in malignant_classes_indices else 0 for label in y_true_filtered])\n",
        "\n",
        "# Calculate the AUC\n",
        "auc_score = roc_auc_score(binary_truth_mel_nv, mal_score_mel_nv)\n",
        "\n",
        "# Compute the ROC curve\n",
        "fpr, tpr, _ = roc_curve(binary_truth_mel_nv, mal_score_mel_nv, pos_label=1)\n",
        "sensitivity = tpr\n",
        "specificity = 1 - fpr\n",
        "\n",
        "# Plot the ROC curve\n",
        "plt.plot(sensitivity, specificity)\n",
        "plt.xlabel(\"Sensitivity\")\n",
        "plt.ylabel(\"Specificity\")\n",
        "plt.title(\"ROC Curve for Melanoma\")\n",
        "plt.text(0.5, 0.3, f\"AUC score: {auc_score:.2f}\", ha='center', va='center', bbox=dict(facecolor='white', edgecolor='gray', pad=5.0))\n",
        "plt.show()"
      ],
      "metadata": {
        "colab": {
          "base_uri": "https://localhost:8080/",
          "height": 472
        },
        "id": "CRNpP40bmeSk",
        "outputId": "6d3f28cf-5725-4946-a1a4-b3648cc36a36"
      },
      "execution_count": null,
      "outputs": [
        {
          "output_type": "display_data",
          "data": {
            "text/plain": [
              "<Figure size 640x480 with 1 Axes>"
            ],
            "image/png": "[encoded data removed]"
          },
          "metadata": {}
        }
      ]
    },
    {
      "cell_type": "code",
      "source": [
        "# Get class indices for 'bkl', 'akiec' and 'bcc' classes\n",
        "bkl_class_index = test_generator.class_indices['bkl']\n",
        "akiec_class_index = test_generator.class_indices['akiec']\n",
        "bcc_class_index = test_generator.class_indices['bcc']\n",
        "\n",
        "# Filter samples belonging to 'bkl', 'akiec' and 'bcc' classes\n",
        "indices = np.where((y_true == bkl_class_index) | \n",
        "                   (y_true == akiec_class_index) | (y_true == bcc_class_index))\n",
        "y_true_filtered = y_true[indices]\n",
        "y_pred_filtered = y_pred[indices]\n",
        "\n",
        "# Create binary scores for malignant and benign classes\n",
        "benign_score = y_pred_filtered[:, ~np.isin(np.arange(y_pred_filtered.shape[1]), malignant_classes_indices)].sum(axis=1)\n",
        "mal_score = y_pred_filtered[:, malignant_classes_indices].sum(axis=1)\n",
        "\n",
        "binary_truth = np.array([1 if label in malignant_classes_indices else 0 for label in y_true_filtered])\n",
        "\n",
        "# Calculate the AUC\n",
        "auc_score = roc_auc_score(binary_truth, mal_score)\n",
        "\n",
        "# Compute the ROC curve\n",
        "fpr, tpr, _ = roc_curve(binary_truth, mal_score, pos_label=1)\n",
        "sensitivity = tpr\n",
        "specificity = 1 - fpr\n",
        "\n",
        "# Plot the ROC curve\n",
        "plt.plot(sensitivity, specificity)\n",
        "plt.xlabel(\"Sensitivity\")\n",
        "plt.ylabel(\"Specificity\")\n",
        "plt.title(\"ROC Curve for Carcinoma\")\n",
        "plt.text(0.5, 0.3, f\"AUC score: {auc_score:.2f}\", ha='center', va='center', bbox=dict(facecolor='white', edgecolor='gray', pad=5.0))"
      ],
      "metadata": {
        "colab": {
          "base_uri": "https://localhost:8080/",
          "height": 490
        },
        "id": "0Vnl-BPQmOKm",
        "outputId": "7a4fd2e7-e303-43de-bebb-edb05e0269a0"
      },
      "execution_count": null,
      "outputs": [
        {
          "output_type": "execute_result",
          "data": {
            "text/plain": [
              "Text(0.5, 0.3, 'AUC score: 0.64')"
            ]
          },
          "metadata": {},
          "execution_count": 33
        },
        {
          "output_type": "display_data",
          "data": {
            "text/plain": [
              "<Figure size 640x480 with 1 Axes>"
            ],
            "image/png": "[encoded data removed]"
          },
          "metadata": {}
        }
      ]
    },
    {
      "cell_type": "code",
      "source": [
        "def get_true_and_predicted_labels(model, generator):\n",
        "    true_labels = []\n",
        "    predicted_labels = []\n",
        "    \n",
        "    for i in range(generator.__len__()):\n",
        "        X_batch, y_batch_true = generator.__getitem__(i)\n",
        "        y_batch_pred = model.predict(X_batch)\n",
        "        y_batch_true_labels = np.argmax(y_batch_true, axis=1)\n",
        "        y_batch_pred_labels = np.argmax(y_batch_pred, axis=1)\n",
        "        \n",
        "        true_labels.extend(y_batch_true_labels)\n",
        "        predicted_labels.extend(y_batch_pred_labels)\n",
        "    \n",
        "    return np.array(true_labels), np.array(predicted_labels)\n",
        "\n",
        "def compute_accuracy_and_confidence_interval(y_true, y_pred, alpha=0.95):\n",
        "    accuracy = accuracy_score(y_true, y_pred)\n",
        "    n = len(y_true)\n",
        "    z = st.norm.ppf(1 - (1 - alpha) / 2)\n",
        "    confidence_interval = z * np.sqrt(accuracy * (1 - accuracy) / n)\n",
        "    return accuracy, (accuracy - confidence_interval, accuracy + confidence_interval)\n",
        "\n",
        "# Get the true and predicted labels\n",
        "true_labels, predicted_labels = get_true_and_predicted_labels(model, test_generator)\n",
        "\n",
        "# Get the malignant class indices\n",
        "malignant_indices = [test_generator.class_indices[cls] for cls in ['akiec', 'bcc', 'mel']]\n",
        "\n",
        "# Convert the true and predicted labels to binary (benign/malignant)\n",
        "true_labels_binary = np.array([1 if label in malignant_indices else 0 for label in true_labels])\n",
        "predicted_labels_binary = np.array([1 if label in malignant_indices else 0 for label in predicted_labels])\n",
        "\n",
        "# Compute the two-way accuracy and confidence interval\n",
        "two_way_accuracy, two_way_confidence_interval = compute_accuracy_and_confidence_interval(true_labels_binary, predicted_labels_binary)\n",
        "print(f\"Two-way accuracy: {two_way_accuracy * 100:.2f}%\")\n",
        "print(f\"Confidence interval: {two_way_confidence_interval[0] * 100:.2f}% - {two_way_confidence_interval[1] * 100:.2f}%\")\n",
        "\n",
        "# Compute the seven-way accuracy and confidence interval\n",
        "seven_way_accuracy, seven_way_confidence_interval = compute_accuracy_and_confidence_interval(true_labels, predicted_labels)\n",
        "print(f\"Seven-way accuracy: {seven_way_accuracy * 100:.2f}%\")\n",
        "print(f\"Confidence interval: {seven_way_confidence_interval[0] * 100:.2f}% - {seven_way_confidence_interval[1] * 100:.2f}%\")"
      ],
      "metadata": {
        "colab": {
          "base_uri": "https://localhost:8080/"
        },
        "id": "-tkgU1-Lnhuy",
        "outputId": "2ff36dd7-8b38-4bec-b884-f59d50c83047"
      },
      "execution_count": null,
      "outputs": [
        {
          "output_type": "stream",
          "name": "stdout",
          "text": [
            "1/1 [==============================] - 7s 7s/step\n",
            "1/1 [==============================] - 7s 7s/step\n",
            "1/1 [==============================] - 9s 9s/step\n",
            "1/1 [==============================] - 8s 8s/step\n",
            "1/1 [==============================] - 7s 7s/step\n",
            "1/1 [==============================] - 7s 7s/step\n",
            "1/1 [==============================] - 9s 9s/step\n",
            "1/1 [==============================] - 8s 8s/step\n",
            "1/1 [==============================] - 10s 10s/step\n",
            "1/1 [==============================] - 9s 9s/step\n",
            "1/1 [==============================] - 8s 8s/step\n",
            "1/1 [==============================] - 7s 7s/step\n",
            "1/1 [==============================] - 9s 9s/step\n",
            "1/1 [==============================] - 8s 8s/step\n",
            "1/1 [==============================] - 7s 7s/step\n",
            "1/1 [==============================] - 7s 7s/step\n",
            "1/1 [==============================] - 9s 9s/step\n",
            "1/1 [==============================] - 9s 9s/step\n",
            "1/1 [==============================] - 7s 7s/step\n",
            "1/1 [==============================] - 8s 8s/step\n",
            "1/1 [==============================] - 12s 12s/step\n",
            "1/1 [==============================] - 9s 9s/step\n",
            "1/1 [==============================] - 8s 8s/step\n",
            "1/1 [==============================] - 7s 7s/step\n",
            "1/1 [==============================] - 7s 7s/step\n",
            "1/1 [==============================] - 9s 9s/step\n",
            "1/1 [==============================] - 9s 9s/step\n",
            "1/1 [==============================] - 7s 7s/step\n",
            "1/1 [==============================] - 8s 8s/step\n",
            "1/1 [==============================] - 9s 9s/step\n",
            "1/1 [==============================] - 7s 7s/step\n",
            "1/1 [==============================] - 8s 8s/step\n",
            "1/1 [==============================] - 9s 9s/step\n",
            "1/1 [==============================] - 9s 9s/step\n",
            "1/1 [==============================] - 7s 7s/step\n",
            "1/1 [==============================] - 7s 7s/step\n",
            "1/1 [==============================] - 9s 9s/step\n",
            "1/1 [==============================] - 9s 9s/step\n",
            "1/1 [==============================] - 7s 7s/step\n",
            "1/1 [==============================] - 8s 8s/step\n",
            "1/1 [==============================] - 9s 9s/step\n",
            "1/1 [==============================] - 7s 7s/step\n",
            "1/1 [==============================] - 9s 9s/step\n",
            "1/1 [==============================] - 12s 12s/step\n",
            "1/1 [==============================] - 9s 9s/step\n",
            "1/1 [==============================] - 8s 8s/step\n",
            "1/1 [==============================] - 7s 7s/step\n",
            "1/1 [==============================] - 2s 2s/step\n",
            "Two-way accuracy: 56.75%\n",
            "Confidence interval: 54.25% - 59.24%\n",
            "Seven-way accuracy: 44.51%\n",
            "Confidence interval: 42.01% - 47.02%\n"
          ]
        }
      ]
    }
  ]
}